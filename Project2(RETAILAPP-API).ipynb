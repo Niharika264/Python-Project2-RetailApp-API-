{
 "cells": [
  {
   "cell_type": "code",
   "execution_count": null,
   "id": "d96652af-1b8b-4ae5-8ba6-4d054d2eafc9",
   "metadata": {},
   "outputs": [
    {
     "name": "stderr",
     "output_type": "stream",
     "text": [
      " * Running on http://localhost:9000/ (Press CTRL+C to quit)\n",
      "127.0.0.1 - - [22/Nov/2021 23:01:55] \"GET / HTTP/1.1\" 404 -\n",
      "127.0.0.1 - - [22/Nov/2021 23:01:55] \"GET /favicon.ico HTTP/1.1\" 404 -\n",
      "127.0.0.1 - - [22/Nov/2021 23:02:01] \"GET /Display/ HTTP/1.1\" 200 -\n"
     ]
    }
   ],
   "source": [
    "from werkzeug.wrappers import Request,Response\n",
    "from flask import Flask,jsonify,request\n",
    "from Retail import Display,InsertIntoSoap,UpdateShampooPrice,DeleteExpiryProduct\n",
    "\n",
    "\n",
    "#creating a flask app to make it an api\n",
    "app = Flask(__name__)\n",
    "\n",
    "#This displays all the avaialble products in my Retail app\n",
    "# This also displays the remaining products after all the expired ones are deleted\n",
    "@app.route(\"/Display/\",methods=['GET'])\n",
    "def fun1():\n",
    "    if(request.method=='GET'):\n",
    "        return Display()\n",
    "\n",
    "# This routing displays 10 extra soaps that were restocked\n",
    "@app.route(\"/Add/\",methods=['GET'])\n",
    "def fun2():\n",
    "    if(request.method=='GET'):\n",
    "        return InsertIntoSoap()\n",
    "\n",
    "# This routing displays the updated prices of each shampoo\n",
    "@app.route(\"/Update/\",methods=['GET'])\n",
    "def fun3():\n",
    "    if(request.method=='GET'):\n",
    "        return UpdateShampooPrice()\n",
    "\n",
    "# This routing cleans my Retail App by deleting all expired products\n",
    "@app.route(\"/Delete/\",methods=['GET'])\n",
    "def fun4():\n",
    "    if(request.method=='GET'):\n",
    "        return DeleteExpiryProduct()\n",
    "\n",
    "if __name__=='__main__':\n",
    "    \n",
    "    from werkzeug.serving import run_simple\n",
    "    run_simple('localhost',9000,app)"
   ]
  }
 ],
 "metadata": {
  "kernelspec": {
   "display_name": "Python 3 (ipykernel)",
   "language": "python",
   "name": "python3"
  },
  "language_info": {
   "codemirror_mode": {
    "name": "ipython",
    "version": 3
   },
   "file_extension": ".py",
   "mimetype": "text/x-python",
   "name": "python",
   "nbconvert_exporter": "python",
   "pygments_lexer": "ipython3",
   "version": "3.9.7"
  }
 },
 "nbformat": 4,
 "nbformat_minor": 5
}
